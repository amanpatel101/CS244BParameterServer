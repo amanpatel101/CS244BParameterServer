{
 "cells": [
  {
   "cell_type": "code",
   "execution_count": 78,
   "metadata": {},
   "outputs": [],
   "source": [
    "import hashlib\n",
    "import random\n",
    "import os"
   ]
  },
  {
   "cell_type": "code",
   "execution_count": 220,
   "metadata": {},
   "outputs": [],
   "source": [
    "class ConsistentHash():\n",
    "    def __init__(self, keys_to_hash, nodes, hashes_per_node=1):\n",
    "        self.keys_to_hash = keys_to_hash\n",
    "        self.nodes = nodes\n",
    "        self.hashes_per_node = hashes_per_node\n",
    "        self.node_hashes = {}\n",
    "        self.node_tuples = []\n",
    "        self.hash_assignments = {}\n",
    "        self.node_assignments = {}\n",
    "        for node in nodes:\n",
    "            self.add_node(node)\n",
    "        for key in keys_to_hash:\n",
    "            self.add_key(key)\n",
    "    def get_hash_key(self, key):\n",
    "        #Gets the hash for a key\n",
    "        return hashlib.md5(str(key).encode()).hexdigest()\n",
    "    def get_hash_node(self, node):\n",
    "        #Gets multiple hashes for a node in a deterministic manner\n",
    "        return [hashlib.md5((str(node) + str(hash_iter)).encode()).hexdigest() for hash_iter in range(self.hashes_per_node)]\n",
    "    def assign_to_node(self, key):\n",
    "        #Assigns a key to the correct node\n",
    "        key_hash = self.hash_assignments[key]\n",
    "        self.node_assignments[key] = self.node_tuples[0][1]\n",
    "        for h, node in self.node_tuples:\n",
    "            if h > key_hash:\n",
    "                self.node_assignments[key] = node\n",
    "                break\n",
    "    def reassign_keys(self):\n",
    "        #Reassigns keys when a node has been added or deleted\n",
    "        self.node_tuples = sorted([x for x in self.node_tuples if x[1] in self.node_hashes], key=lambda x: x[0])\n",
    "        for key in self.node_assignments: #Won't do anything if no node added yet\n",
    "            self.assign_to_node(key)        \n",
    "    def add_key(self, key):\n",
    "        #Adds a key\n",
    "        self.hash_assignments[key] = self.get_hash_key(key)\n",
    "        self.assign_to_node(key)\n",
    "    def delete_key(self, key):\n",
    "        #Deletes a key\n",
    "        del self.hash_assignments[key]\n",
    "        del self.node_assignments[key]\n",
    "    def add_node(self, node):\n",
    "        #Adds a node\n",
    "        hashes = self.get_hash_node(node)\n",
    "        self.node_hashes[node] = hashes\n",
    "        self.node_tuples.extend([(h, node) for h in hashes])\n",
    "        self.reassign_keys()\n",
    "    def delete_node(self, node):\n",
    "        #Deletes a node\n",
    "        del self.node_hashes[node]\n",
    "        self.reassign_keys()\n",
    "    def get_key_to_node_map(self):\n",
    "        #Returns dictionary of key -> node mappings\n",
    "        return self.node_assignments\n",
    "    def get_keys_per_node(self):\n",
    "        #Returns map from node to all keys it covers\n",
    "        map_dict = {node : [] for node in self.nodes}\n",
    "        for key in self.node_assignments:\n",
    "            map_dict[self.node_assignments[key]].append(key)\n",
    "        return map_dict\n",
    "    \n",
    "            \n",
    "    "
   ]
  },
  {
   "cell_type": "code",
   "execution_count": 221,
   "metadata": {},
   "outputs": [],
   "source": [
    "chash = ConsistentHash(list(range(50)), [\"serv1\", \"serv2\", \"serv3\", \"serv4\"], 10)"
   ]
  },
  {
   "cell_type": "code",
   "execution_count": 222,
   "metadata": {
    "scrolled": true
   },
   "outputs": [
    {
     "data": {
      "text/plain": [
       "{0: 'serv2',\n",
       " 1: 'serv1',\n",
       " 2: 'serv1',\n",
       " 3: 'serv3',\n",
       " 4: 'serv4',\n",
       " 5: 'serv2',\n",
       " 6: 'serv4',\n",
       " 7: 'serv2',\n",
       " 8: 'serv1',\n",
       " 9: 'serv1',\n",
       " 10: 'serv2',\n",
       " 11: 'serv2',\n",
       " 12: 'serv1',\n",
       " 13: 'serv1',\n",
       " 14: 'serv4',\n",
       " 15: 'serv3',\n",
       " 16: 'serv1',\n",
       " 17: 'serv1',\n",
       " 18: 'serv1',\n",
       " 19: 'serv4',\n",
       " 20: 'serv3',\n",
       " 21: 'serv1',\n",
       " 22: 'serv4',\n",
       " 23: 'serv2',\n",
       " 24: 'serv4',\n",
       " 25: 'serv2',\n",
       " 26: 'serv1',\n",
       " 27: 'serv3',\n",
       " 28: 'serv2',\n",
       " 29: 'serv1',\n",
       " 30: 'serv2',\n",
       " 31: 'serv4',\n",
       " 32: 'serv2',\n",
       " 33: 'serv4',\n",
       " 34: 'serv2',\n",
       " 35: 'serv4',\n",
       " 36: 'serv4',\n",
       " 37: 'serv4',\n",
       " 38: 'serv4',\n",
       " 39: 'serv2',\n",
       " 40: 'serv2',\n",
       " 41: 'serv2',\n",
       " 42: 'serv3',\n",
       " 43: 'serv4',\n",
       " 44: 'serv3',\n",
       " 45: 'serv1',\n",
       " 46: 'serv2',\n",
       " 47: 'serv2',\n",
       " 48: 'serv2',\n",
       " 49: 'serv3'}"
      ]
     },
     "execution_count": 222,
     "metadata": {},
     "output_type": "execute_result"
    }
   ],
   "source": [
    "chash.node_assignments"
   ]
  },
  {
   "cell_type": "code",
   "execution_count": 223,
   "metadata": {
    "scrolled": true
   },
   "outputs": [
    {
     "data": {
      "text/plain": [
       "{'serv1': ['4f6dbed3d1014df64b899072f57cb64c',\n",
       "  '58ca1d95c96e4d774f880cd8771902e9',\n",
       "  '495be8b0510f521482b85d6834f8be68',\n",
       "  'c586546ec16168347e7a8b213c513d93',\n",
       "  '70f6b533bd96558cd9846cb4f640318c',\n",
       "  'cc46fff9e203d7924725c0f805fdcfc7',\n",
       "  '4012c9ce9a83469339ebd4d3dab48b11',\n",
       "  '405cbb2dd96cf1dde52945d5eba8d28f',\n",
       "  '2b27c01586926470411ce82ff87e0495',\n",
       "  '787a3522d7966faff6483995cb97cb88'],\n",
       " 'serv2': ['66af78371493045a6367209758062527',\n",
       "  '591acb52f23a4dfde8ed6c65a1922ae6',\n",
       "  'bbb64d5e7f96138218fcc9946814df1a',\n",
       "  '6839e1cb89b7caf089dc73e4ee1a0464',\n",
       "  'd7596b495ff1418fb353c7a88a4fce36',\n",
       "  '38605b55f05d4630e6b160464366c7eb',\n",
       "  '50354aa17c1bb3aa72714aefed2a84c2',\n",
       "  '949f722f61be6e2c148b2214c084e8ec',\n",
       "  'e707513bb73eeb641a7d47527eecff1e',\n",
       "  'e890fe51fc61c1276a0e826e84510099'],\n",
       " 'serv3': ['c6cef123ac88f74771d08a41b7b4ed1c',\n",
       "  '2a25f27b59d1c057e3269db54626a796',\n",
       "  '104c7de768a21e27a7811f26777b9d55',\n",
       "  'd79fb4f7e35210cd233de3854fc50773',\n",
       "  '81e0537bac3fc94d65e33279929d5a59',\n",
       "  '421f112fa5e3ac32f77ae35075a8cd07',\n",
       "  '5756684ff861687bf03c3755dfff080d',\n",
       "  'ff23e376c7b14c300e3ddba73701f4d9',\n",
       "  'a407ab2bd6dfb7476c7f38377928569a',\n",
       "  '310a9994b3799b3b567eb9da1c1ecf4c'],\n",
       " 'serv4': ['39e3319ecfa0a0417752b93ca62c938b',\n",
       "  '67b2b2b4f92c6b17ae6ce2dec379f380',\n",
       "  'c1e211525d6f9c23ccbf00763f589e61',\n",
       "  '28e5c686fef065bdb53b43d8aa344093',\n",
       "  'ba4df63bc067c9938f304871a83f5054',\n",
       "  '57bd5c97f8f64d585280826d6d93ccd5',\n",
       "  '1244a4c0c5538f2d7f00485fd78fe427',\n",
       "  'aa055a138c73256c373cf8dee9b78b1e',\n",
       "  'bd76bc625e6741079eaaa0885ba72d32',\n",
       "  '808775a02a7a4bed4fddc38c8f9a7f26']}"
      ]
     },
     "execution_count": 223,
     "metadata": {},
     "output_type": "execute_result"
    }
   ],
   "source": [
    "chash.node_hashes"
   ]
  },
  {
   "cell_type": "code",
   "execution_count": 224,
   "metadata": {
    "scrolled": true
   },
   "outputs": [],
   "source": [
    "chash.add_key(51)"
   ]
  },
  {
   "cell_type": "code",
   "execution_count": 225,
   "metadata": {
    "scrolled": true
   },
   "outputs": [
    {
     "data": {
      "text/plain": [
       "[('104c7de768a21e27a7811f26777b9d55', 'serv3'),\n",
       " ('1244a4c0c5538f2d7f00485fd78fe427', 'serv4'),\n",
       " ('28e5c686fef065bdb53b43d8aa344093', 'serv4'),\n",
       " ('2a25f27b59d1c057e3269db54626a796', 'serv3'),\n",
       " ('2b27c01586926470411ce82ff87e0495', 'serv1'),\n",
       " ('310a9994b3799b3b567eb9da1c1ecf4c', 'serv3'),\n",
       " ('38605b55f05d4630e6b160464366c7eb', 'serv2'),\n",
       " ('39e3319ecfa0a0417752b93ca62c938b', 'serv4'),\n",
       " ('4012c9ce9a83469339ebd4d3dab48b11', 'serv1'),\n",
       " ('405cbb2dd96cf1dde52945d5eba8d28f', 'serv1'),\n",
       " ('421f112fa5e3ac32f77ae35075a8cd07', 'serv3'),\n",
       " ('495be8b0510f521482b85d6834f8be68', 'serv1'),\n",
       " ('4f6dbed3d1014df64b899072f57cb64c', 'serv1'),\n",
       " ('50354aa17c1bb3aa72714aefed2a84c2', 'serv2'),\n",
       " ('5756684ff861687bf03c3755dfff080d', 'serv3'),\n",
       " ('57bd5c97f8f64d585280826d6d93ccd5', 'serv4'),\n",
       " ('58ca1d95c96e4d774f880cd8771902e9', 'serv1'),\n",
       " ('591acb52f23a4dfde8ed6c65a1922ae6', 'serv2'),\n",
       " ('66af78371493045a6367209758062527', 'serv2'),\n",
       " ('67b2b2b4f92c6b17ae6ce2dec379f380', 'serv4'),\n",
       " ('6839e1cb89b7caf089dc73e4ee1a0464', 'serv2'),\n",
       " ('70f6b533bd96558cd9846cb4f640318c', 'serv1'),\n",
       " ('787a3522d7966faff6483995cb97cb88', 'serv1'),\n",
       " ('808775a02a7a4bed4fddc38c8f9a7f26', 'serv4'),\n",
       " ('81e0537bac3fc94d65e33279929d5a59', 'serv3'),\n",
       " ('949f722f61be6e2c148b2214c084e8ec', 'serv2'),\n",
       " ('a407ab2bd6dfb7476c7f38377928569a', 'serv3'),\n",
       " ('aa055a138c73256c373cf8dee9b78b1e', 'serv4'),\n",
       " ('ba4df63bc067c9938f304871a83f5054', 'serv4'),\n",
       " ('bbb64d5e7f96138218fcc9946814df1a', 'serv2'),\n",
       " ('bd76bc625e6741079eaaa0885ba72d32', 'serv4'),\n",
       " ('c1e211525d6f9c23ccbf00763f589e61', 'serv4'),\n",
       " ('c586546ec16168347e7a8b213c513d93', 'serv1'),\n",
       " ('c6cef123ac88f74771d08a41b7b4ed1c', 'serv3'),\n",
       " ('cc46fff9e203d7924725c0f805fdcfc7', 'serv1'),\n",
       " ('d7596b495ff1418fb353c7a88a4fce36', 'serv2'),\n",
       " ('d79fb4f7e35210cd233de3854fc50773', 'serv3'),\n",
       " ('e707513bb73eeb641a7d47527eecff1e', 'serv2'),\n",
       " ('e890fe51fc61c1276a0e826e84510099', 'serv2'),\n",
       " ('ff23e376c7b14c300e3ddba73701f4d9', 'serv3')]"
      ]
     },
     "execution_count": 225,
     "metadata": {},
     "output_type": "execute_result"
    }
   ],
   "source": [
    "chash.node_tuples"
   ]
  },
  {
   "cell_type": "code",
   "execution_count": 226,
   "metadata": {},
   "outputs": [],
   "source": [
    "chash.delete_node(\"serv4\")"
   ]
  },
  {
   "cell_type": "code",
   "execution_count": 227,
   "metadata": {
    "scrolled": true
   },
   "outputs": [
    {
     "data": {
      "text/plain": [
       "{0: 'serv2',\n",
       " 1: 'serv1',\n",
       " 2: 'serv1',\n",
       " 3: 'serv3',\n",
       " 4: 'serv2',\n",
       " 5: 'serv2',\n",
       " 6: 'serv3',\n",
       " 7: 'serv2',\n",
       " 8: 'serv1',\n",
       " 9: 'serv1',\n",
       " 10: 'serv2',\n",
       " 11: 'serv2',\n",
       " 12: 'serv1',\n",
       " 13: 'serv1',\n",
       " 14: 'serv2',\n",
       " 15: 'serv3',\n",
       " 16: 'serv1',\n",
       " 17: 'serv1',\n",
       " 18: 'serv1',\n",
       " 19: 'serv3',\n",
       " 20: 'serv3',\n",
       " 21: 'serv1',\n",
       " 22: 'serv2',\n",
       " 23: 'serv2',\n",
       " 24: 'serv3',\n",
       " 25: 'serv2',\n",
       " 26: 'serv1',\n",
       " 27: 'serv3',\n",
       " 28: 'serv2',\n",
       " 29: 'serv1',\n",
       " 30: 'serv2',\n",
       " 31: 'serv1',\n",
       " 32: 'serv2',\n",
       " 33: 'serv3',\n",
       " 34: 'serv2',\n",
       " 35: 'serv3',\n",
       " 36: 'serv3',\n",
       " 37: 'serv2',\n",
       " 38: 'serv2',\n",
       " 39: 'serv2',\n",
       " 40: 'serv2',\n",
       " 41: 'serv2',\n",
       " 42: 'serv3',\n",
       " 43: 'serv3',\n",
       " 44: 'serv3',\n",
       " 45: 'serv1',\n",
       " 46: 'serv2',\n",
       " 47: 'serv2',\n",
       " 48: 'serv2',\n",
       " 49: 'serv3',\n",
       " 51: 'serv3'}"
      ]
     },
     "execution_count": 227,
     "metadata": {},
     "output_type": "execute_result"
    }
   ],
   "source": [
    "chash.node_assignments"
   ]
  },
  {
   "cell_type": "code",
   "execution_count": 228,
   "metadata": {},
   "outputs": [],
   "source": [
    "chash.add_node(\"serv4\")"
   ]
  },
  {
   "cell_type": "code",
   "execution_count": 229,
   "metadata": {
    "scrolled": true
   },
   "outputs": [
    {
     "data": {
      "text/plain": [
       "{0: 'serv2',\n",
       " 1: 'serv1',\n",
       " 2: 'serv1',\n",
       " 3: 'serv3',\n",
       " 4: 'serv4',\n",
       " 5: 'serv2',\n",
       " 6: 'serv4',\n",
       " 7: 'serv2',\n",
       " 8: 'serv1',\n",
       " 9: 'serv1',\n",
       " 10: 'serv2',\n",
       " 11: 'serv2',\n",
       " 12: 'serv1',\n",
       " 13: 'serv1',\n",
       " 14: 'serv4',\n",
       " 15: 'serv3',\n",
       " 16: 'serv1',\n",
       " 17: 'serv1',\n",
       " 18: 'serv1',\n",
       " 19: 'serv4',\n",
       " 20: 'serv3',\n",
       " 21: 'serv1',\n",
       " 22: 'serv4',\n",
       " 23: 'serv2',\n",
       " 24: 'serv4',\n",
       " 25: 'serv2',\n",
       " 26: 'serv1',\n",
       " 27: 'serv3',\n",
       " 28: 'serv2',\n",
       " 29: 'serv1',\n",
       " 30: 'serv2',\n",
       " 31: 'serv4',\n",
       " 32: 'serv2',\n",
       " 33: 'serv4',\n",
       " 34: 'serv2',\n",
       " 35: 'serv4',\n",
       " 36: 'serv4',\n",
       " 37: 'serv4',\n",
       " 38: 'serv4',\n",
       " 39: 'serv2',\n",
       " 40: 'serv2',\n",
       " 41: 'serv2',\n",
       " 42: 'serv3',\n",
       " 43: 'serv4',\n",
       " 44: 'serv3',\n",
       " 45: 'serv1',\n",
       " 46: 'serv2',\n",
       " 47: 'serv2',\n",
       " 48: 'serv2',\n",
       " 49: 'serv3',\n",
       " 51: 'serv4'}"
      ]
     },
     "execution_count": 229,
     "metadata": {},
     "output_type": "execute_result"
    }
   ],
   "source": [
    "chash.node_assignments"
   ]
  },
  {
   "cell_type": "code",
   "execution_count": 230,
   "metadata": {},
   "outputs": [],
   "source": [
    "chash.delete_key(37)"
   ]
  },
  {
   "cell_type": "code",
   "execution_count": 231,
   "metadata": {
    "scrolled": true
   },
   "outputs": [
    {
     "data": {
      "text/plain": [
       "{0: 'serv2',\n",
       " 1: 'serv1',\n",
       " 2: 'serv1',\n",
       " 3: 'serv3',\n",
       " 4: 'serv4',\n",
       " 5: 'serv2',\n",
       " 6: 'serv4',\n",
       " 7: 'serv2',\n",
       " 8: 'serv1',\n",
       " 9: 'serv1',\n",
       " 10: 'serv2',\n",
       " 11: 'serv2',\n",
       " 12: 'serv1',\n",
       " 13: 'serv1',\n",
       " 14: 'serv4',\n",
       " 15: 'serv3',\n",
       " 16: 'serv1',\n",
       " 17: 'serv1',\n",
       " 18: 'serv1',\n",
       " 19: 'serv4',\n",
       " 20: 'serv3',\n",
       " 21: 'serv1',\n",
       " 22: 'serv4',\n",
       " 23: 'serv2',\n",
       " 24: 'serv4',\n",
       " 25: 'serv2',\n",
       " 26: 'serv1',\n",
       " 27: 'serv3',\n",
       " 28: 'serv2',\n",
       " 29: 'serv1',\n",
       " 30: 'serv2',\n",
       " 31: 'serv4',\n",
       " 32: 'serv2',\n",
       " 33: 'serv4',\n",
       " 34: 'serv2',\n",
       " 35: 'serv4',\n",
       " 36: 'serv4',\n",
       " 38: 'serv4',\n",
       " 39: 'serv2',\n",
       " 40: 'serv2',\n",
       " 41: 'serv2',\n",
       " 42: 'serv3',\n",
       " 43: 'serv4',\n",
       " 44: 'serv3',\n",
       " 45: 'serv1',\n",
       " 46: 'serv2',\n",
       " 47: 'serv2',\n",
       " 48: 'serv2',\n",
       " 49: 'serv3',\n",
       " 51: 'serv4'}"
      ]
     },
     "execution_count": 231,
     "metadata": {},
     "output_type": "execute_result"
    }
   ],
   "source": [
    "chash.node_assignments"
   ]
  },
  {
   "cell_type": "code",
   "execution_count": 232,
   "metadata": {
    "scrolled": true
   },
   "outputs": [
    {
     "data": {
      "text/plain": [
       "{0: 'serv2',\n",
       " 1: 'serv1',\n",
       " 2: 'serv1',\n",
       " 3: 'serv3',\n",
       " 4: 'serv4',\n",
       " 5: 'serv2',\n",
       " 6: 'serv4',\n",
       " 7: 'serv2',\n",
       " 8: 'serv1',\n",
       " 9: 'serv1',\n",
       " 10: 'serv2',\n",
       " 11: 'serv2',\n",
       " 12: 'serv1',\n",
       " 13: 'serv1',\n",
       " 14: 'serv4',\n",
       " 15: 'serv3',\n",
       " 16: 'serv1',\n",
       " 17: 'serv1',\n",
       " 18: 'serv1',\n",
       " 19: 'serv4',\n",
       " 20: 'serv3',\n",
       " 21: 'serv1',\n",
       " 22: 'serv4',\n",
       " 23: 'serv2',\n",
       " 24: 'serv4',\n",
       " 25: 'serv2',\n",
       " 26: 'serv1',\n",
       " 27: 'serv3',\n",
       " 28: 'serv2',\n",
       " 29: 'serv1',\n",
       " 30: 'serv2',\n",
       " 31: 'serv4',\n",
       " 32: 'serv2',\n",
       " 33: 'serv4',\n",
       " 34: 'serv2',\n",
       " 35: 'serv4',\n",
       " 36: 'serv4',\n",
       " 38: 'serv4',\n",
       " 39: 'serv2',\n",
       " 40: 'serv2',\n",
       " 41: 'serv2',\n",
       " 42: 'serv3',\n",
       " 43: 'serv4',\n",
       " 44: 'serv3',\n",
       " 45: 'serv1',\n",
       " 46: 'serv2',\n",
       " 47: 'serv2',\n",
       " 48: 'serv2',\n",
       " 49: 'serv3',\n",
       " 51: 'serv4',\n",
       " 37: 'serv4'}"
      ]
     },
     "execution_count": 232,
     "metadata": {},
     "output_type": "execute_result"
    }
   ],
   "source": [
    "chash.add_key(37)\n",
    "chash.node_assignments"
   ]
  },
  {
   "cell_type": "code",
   "execution_count": 233,
   "metadata": {
    "scrolled": true
   },
   "outputs": [
    {
     "data": {
      "text/plain": [
       "{0: 'serv2',\n",
       " 1: 'serv1',\n",
       " 2: 'serv1',\n",
       " 3: 'serv3',\n",
       " 4: 'serv4',\n",
       " 5: 'serv2',\n",
       " 6: 'serv4',\n",
       " 7: 'serv2',\n",
       " 8: 'serv1',\n",
       " 9: 'serv1',\n",
       " 10: 'serv2',\n",
       " 11: 'serv2',\n",
       " 12: 'serv1',\n",
       " 13: 'serv1',\n",
       " 14: 'serv4',\n",
       " 15: 'serv3',\n",
       " 16: 'serv1',\n",
       " 17: 'serv1',\n",
       " 18: 'serv1',\n",
       " 19: 'serv4',\n",
       " 20: 'serv3',\n",
       " 21: 'serv1',\n",
       " 22: 'serv4',\n",
       " 23: 'serv2',\n",
       " 24: 'serv4',\n",
       " 25: 'serv2',\n",
       " 26: 'serv1',\n",
       " 27: 'serv3',\n",
       " 28: 'serv2',\n",
       " 29: 'serv1',\n",
       " 30: 'serv2',\n",
       " 31: 'serv4',\n",
       " 32: 'serv2',\n",
       " 33: 'serv4',\n",
       " 34: 'serv2',\n",
       " 35: 'serv4',\n",
       " 36: 'serv4',\n",
       " 38: 'serv4',\n",
       " 39: 'serv2',\n",
       " 40: 'serv2',\n",
       " 41: 'serv2',\n",
       " 42: 'serv3',\n",
       " 43: 'serv4',\n",
       " 44: 'serv3',\n",
       " 45: 'serv1',\n",
       " 46: 'serv2',\n",
       " 47: 'serv2',\n",
       " 48: 'serv2',\n",
       " 49: 'serv3',\n",
       " 51: 'serv4',\n",
       " 37: 'serv4'}"
      ]
     },
     "execution_count": 233,
     "metadata": {},
     "output_type": "execute_result"
    }
   ],
   "source": [
    "chash.get_key_to_node_map()"
   ]
  },
  {
   "cell_type": "code",
   "execution_count": 234,
   "metadata": {},
   "outputs": [
    {
     "data": {
      "text/plain": [
       "{'serv1': [1, 2, 8, 9, 12, 13, 16, 17, 18, 21, 26, 29, 45],\n",
       " 'serv2': [0, 5, 7, 10, 11, 23, 25, 28, 30, 32, 34, 39, 40, 41, 46, 47, 48],\n",
       " 'serv3': [3, 15, 20, 27, 42, 44, 49],\n",
       " 'serv4': [4, 6, 14, 19, 22, 24, 31, 33, 35, 36, 38, 43, 51, 37]}"
      ]
     },
     "execution_count": 234,
     "metadata": {},
     "output_type": "execute_result"
    }
   ],
   "source": [
    "chash.get_keys_per_node()"
   ]
  },
  {
   "cell_type": "code",
   "execution_count": 218,
   "metadata": {},
   "outputs": [
    {
     "ename": "TypeError",
     "evalue": "cannot unpack non-iterable int object",
     "output_type": "error",
     "traceback": [
      "\u001b[0;31m---------------------------------------------------------------------------\u001b[0m",
      "\u001b[0;31mTypeError\u001b[0m                                 Traceback (most recent call last)",
      "\u001b[0;32m/tmp/ipykernel_28644/479695519.py\u001b[0m in \u001b[0;36m<module>\u001b[0;34m\u001b[0m\n\u001b[0;32m----> 1\u001b[0;31m \u001b[0;32mfor\u001b[0m \u001b[0mkey\u001b[0m\u001b[0;34m,\u001b[0m \u001b[0mnode\u001b[0m \u001b[0;32min\u001b[0m \u001b[0mchash\u001b[0m\u001b[0;34m.\u001b[0m\u001b[0mnode_assignments\u001b[0m\u001b[0;34m:\u001b[0m\u001b[0;34m\u001b[0m\u001b[0;34m\u001b[0m\u001b[0m\n\u001b[0m\u001b[1;32m      2\u001b[0m     \u001b[0mprint\u001b[0m\u001b[0;34m(\u001b[0m\u001b[0mkey\u001b[0m\u001b[0;34m)\u001b[0m\u001b[0;34m\u001b[0m\u001b[0;34m\u001b[0m\u001b[0m\n",
      "\u001b[0;31mTypeError\u001b[0m: cannot unpack non-iterable int object"
     ]
    }
   ],
   "source": [
    "for key, node in chash.node_assignments:\n",
    "    print(key)"
   ]
  },
  {
   "cell_type": "code",
   "execution_count": null,
   "metadata": {},
   "outputs": [],
   "source": []
  }
 ],
 "metadata": {
  "kernelspec": {
   "display_name": "ParamServer",
   "language": "python",
   "name": "paramserver"
  },
  "language_info": {
   "codemirror_mode": {
    "name": "ipython",
    "version": 3
   },
   "file_extension": ".py",
   "mimetype": "text/x-python",
   "name": "python",
   "nbconvert_exporter": "python",
   "pygments_lexer": "ipython3",
   "version": "3.7.13"
  }
 },
 "nbformat": 4,
 "nbformat_minor": 4
}
